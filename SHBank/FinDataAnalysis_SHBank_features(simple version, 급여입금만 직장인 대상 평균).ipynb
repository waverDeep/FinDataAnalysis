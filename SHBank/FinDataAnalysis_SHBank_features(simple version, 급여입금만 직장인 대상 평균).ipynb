{
 "cells": [
  {
   "cell_type": "markdown",
   "metadata": {},
   "source": [
    "# 3️⃣ 신한은행 - 서울시 지역단위 '소득', '지출', '금융자산' 정보"
   ]
  },
  {
   "cell_type": "markdown",
   "metadata": {},
   "source": [
    "---"
   ]
  },
  {
   "cell_type": "markdown",
   "metadata": {},
   "source": [
    "## 전체 데이터 파악하기"
   ]
  },
  {
   "cell_type": "code",
   "execution_count": 1,
   "metadata": {},
   "outputs": [],
   "source": [
    "%matplotlib inline\n",
    "\n",
    "import pandas as pd\n",
    "import numpy as np\n",
    "import matplotlib.pyplot as plt\n",
    "\n",
    "# 한글 폰트 사용을 위해서 세팅\n",
    "from matplotlib import font_manager, rc\n",
    "font_path = \"C:/Windows/Fonts/NanumBarunpenR.ttf\"\n",
    "font = font_manager.FontProperties(fname=font_path).get_name()\n",
    "rc('font', family=font)"
   ]
  },
  {
   "cell_type": "code",
   "execution_count": 2,
   "metadata": {},
   "outputs": [
    {
     "name": "stdout",
     "output_type": "stream",
     "text": [
      "(1039568, 20)\n",
      "<class 'pandas.core.frame.DataFrame'>\n",
      "RangeIndex: 1039568 entries, 0 to 1039567\n",
      "Data columns (total 20 columns):\n",
      " #   Column    Non-Null Count    Dtype  \n",
      "---  ------    --------------    -----  \n",
      " 0   기준년월      1039568 non-null  int64  \n",
      " 1   지역구       1039568 non-null  object \n",
      " 2   법정동코드     1039568 non-null  int64  \n",
      " 3   법정동       1039568 non-null  object \n",
      " 4   집계구코드     1039568 non-null  float64\n",
      " 5   나이        1039568 non-null  int64  \n",
      " 6   성별        1039568 non-null  int64  \n",
      " 7   직장인여부     1039568 non-null  int64  \n",
      " 8   급여입금      1039568 non-null  int64  \n",
      " 9   가맹점매출입금   1039568 non-null  int64  \n",
      " 10  연금입금      1039568 non-null  int64  \n",
      " 11  총소비금액     1039568 non-null  int64  \n",
      " 12  총수신금액     1039568 non-null  int64  \n",
      " 13  예적금금액     1039568 non-null  int64  \n",
      " 14  신탁금액      1039568 non-null  int64  \n",
      " 15  수익증권금액    1039568 non-null  int64  \n",
      " 16  신용대출금액    1039568 non-null  int64  \n",
      " 17  담보대출금액    1039568 non-null  int64  \n",
      " 18  주택대출금액    1039568 non-null  int64  \n",
      " 19  전세자금대출금액  1039568 non-null  int64  \n",
      "dtypes: float64(1), int64(17), object(2)\n",
      "memory usage: 158.6+ MB\n",
      "None\n"
     ]
    },
    {
     "data": {
      "text/html": [
       "<div>\n",
       "<style scoped>\n",
       "    .dataframe tbody tr th:only-of-type {\n",
       "        vertical-align: middle;\n",
       "    }\n",
       "\n",
       "    .dataframe tbody tr th {\n",
       "        vertical-align: top;\n",
       "    }\n",
       "\n",
       "    .dataframe thead th {\n",
       "        text-align: right;\n",
       "    }\n",
       "</style>\n",
       "<table border=\"1\" class=\"dataframe\">\n",
       "  <thead>\n",
       "    <tr style=\"text-align: right;\">\n",
       "      <th></th>\n",
       "      <th>기준년월</th>\n",
       "      <th>지역구</th>\n",
       "      <th>법정동코드</th>\n",
       "      <th>법정동</th>\n",
       "      <th>집계구코드</th>\n",
       "      <th>나이</th>\n",
       "      <th>성별</th>\n",
       "      <th>직장인여부</th>\n",
       "      <th>급여입금</th>\n",
       "      <th>가맹점매출입금</th>\n",
       "      <th>연금입금</th>\n",
       "      <th>총소비금액</th>\n",
       "      <th>총수신금액</th>\n",
       "      <th>예적금금액</th>\n",
       "      <th>신탁금액</th>\n",
       "      <th>수익증권금액</th>\n",
       "      <th>신용대출금액</th>\n",
       "      <th>담보대출금액</th>\n",
       "      <th>주택대출금액</th>\n",
       "      <th>전세자금대출금액</th>\n",
       "    </tr>\n",
       "  </thead>\n",
       "  <tbody>\n",
       "    <tr>\n",
       "      <th>0</th>\n",
       "      <td>201903</td>\n",
       "      <td>강남구</td>\n",
       "      <td>11680101</td>\n",
       "      <td>역삼동</td>\n",
       "      <td>1.120000e+12</td>\n",
       "      <td>2</td>\n",
       "      <td>1</td>\n",
       "      <td>0</td>\n",
       "      <td>0</td>\n",
       "      <td>0</td>\n",
       "      <td>0</td>\n",
       "      <td>2018319</td>\n",
       "      <td>2430312</td>\n",
       "      <td>0</td>\n",
       "      <td>0</td>\n",
       "      <td>0</td>\n",
       "      <td>0</td>\n",
       "      <td>0</td>\n",
       "      <td>0</td>\n",
       "      <td>0</td>\n",
       "    </tr>\n",
       "    <tr>\n",
       "      <th>1</th>\n",
       "      <td>201903</td>\n",
       "      <td>강남구</td>\n",
       "      <td>11680101</td>\n",
       "      <td>역삼동</td>\n",
       "      <td>1.120000e+12</td>\n",
       "      <td>2</td>\n",
       "      <td>2</td>\n",
       "      <td>0</td>\n",
       "      <td>0</td>\n",
       "      <td>0</td>\n",
       "      <td>0</td>\n",
       "      <td>2326837</td>\n",
       "      <td>2221251</td>\n",
       "      <td>0</td>\n",
       "      <td>0</td>\n",
       "      <td>0</td>\n",
       "      <td>0</td>\n",
       "      <td>0</td>\n",
       "      <td>0</td>\n",
       "      <td>0</td>\n",
       "    </tr>\n",
       "    <tr>\n",
       "      <th>2</th>\n",
       "      <td>201903</td>\n",
       "      <td>강남구</td>\n",
       "      <td>11680101</td>\n",
       "      <td>역삼동</td>\n",
       "      <td>1.120000e+12</td>\n",
       "      <td>3</td>\n",
       "      <td>1</td>\n",
       "      <td>0</td>\n",
       "      <td>0</td>\n",
       "      <td>0</td>\n",
       "      <td>0</td>\n",
       "      <td>1771639</td>\n",
       "      <td>1382057</td>\n",
       "      <td>1841250</td>\n",
       "      <td>0</td>\n",
       "      <td>0</td>\n",
       "      <td>0</td>\n",
       "      <td>0</td>\n",
       "      <td>0</td>\n",
       "      <td>0</td>\n",
       "    </tr>\n",
       "    <tr>\n",
       "      <th>3</th>\n",
       "      <td>201903</td>\n",
       "      <td>강남구</td>\n",
       "      <td>11680101</td>\n",
       "      <td>역삼동</td>\n",
       "      <td>1.120000e+12</td>\n",
       "      <td>3</td>\n",
       "      <td>2</td>\n",
       "      <td>0</td>\n",
       "      <td>0</td>\n",
       "      <td>0</td>\n",
       "      <td>0</td>\n",
       "      <td>1745601</td>\n",
       "      <td>2902578</td>\n",
       "      <td>3561440</td>\n",
       "      <td>0</td>\n",
       "      <td>0</td>\n",
       "      <td>0</td>\n",
       "      <td>0</td>\n",
       "      <td>0</td>\n",
       "      <td>0</td>\n",
       "    </tr>\n",
       "    <tr>\n",
       "      <th>4</th>\n",
       "      <td>201903</td>\n",
       "      <td>강남구</td>\n",
       "      <td>11680101</td>\n",
       "      <td>역삼동</td>\n",
       "      <td>1.120000e+12</td>\n",
       "      <td>4</td>\n",
       "      <td>1</td>\n",
       "      <td>0</td>\n",
       "      <td>0</td>\n",
       "      <td>0</td>\n",
       "      <td>0</td>\n",
       "      <td>1712433</td>\n",
       "      <td>1746992</td>\n",
       "      <td>8831666</td>\n",
       "      <td>0</td>\n",
       "      <td>0</td>\n",
       "      <td>0</td>\n",
       "      <td>0</td>\n",
       "      <td>0</td>\n",
       "      <td>0</td>\n",
       "    </tr>\n",
       "  </tbody>\n",
       "</table>\n",
       "</div>"
      ],
      "text/plain": [
       "     기준년월  지역구     법정동코드  법정동         집계구코드  나이  성별  직장인여부  급여입금  가맹점매출입금  \\\n",
       "0  201903  강남구  11680101  역삼동  1.120000e+12   2   1      0     0        0   \n",
       "1  201903  강남구  11680101  역삼동  1.120000e+12   2   2      0     0        0   \n",
       "2  201903  강남구  11680101  역삼동  1.120000e+12   3   1      0     0        0   \n",
       "3  201903  강남구  11680101  역삼동  1.120000e+12   3   2      0     0        0   \n",
       "4  201903  강남구  11680101  역삼동  1.120000e+12   4   1      0     0        0   \n",
       "\n",
       "   연금입금    총소비금액    총수신금액    예적금금액  신탁금액  수익증권금액  신용대출금액  담보대출금액  주택대출금액  \\\n",
       "0     0  2018319  2430312        0     0       0       0       0       0   \n",
       "1     0  2326837  2221251        0     0       0       0       0       0   \n",
       "2     0  1771639  1382057  1841250     0       0       0       0       0   \n",
       "3     0  1745601  2902578  3561440     0       0       0       0       0   \n",
       "4     0  1712433  1746992  8831666     0       0       0       0       0   \n",
       "\n",
       "   전세자금대출금액  \n",
       "0         0  \n",
       "1         0  \n",
       "2         0  \n",
       "3         0  \n",
       "4         0  "
      ]
     },
     "execution_count": 2,
     "metadata": {},
     "output_type": "execute_result"
    }
   ],
   "source": [
    "file_path = './신한은행_서울시 지역단위 \\'소득\\', \\'지출\\', \\'금융자산\\' 정보.csv'\n",
    "df = pd.read_csv(file_path, encoding='cp949')\n",
    "\n",
    "print(df.shape)\n",
    "print(df.info())\n",
    "df.head()"
   ]
  },
  {
   "cell_type": "code",
   "execution_count": 3,
   "metadata": {},
   "outputs": [
    {
     "data": {
      "text/plain": [
       "Index(['기준년월', '지역구', '법정동코드', '법정동', '집계구코드', '나이', '성별', '직장인여부', '급여입금',\n",
       "       '가맹점매출입금', '연금입금', '총소비금액', '총수신금액', '예적금금액', '신탁금액', '수익증권금액',\n",
       "       '신용대출금액', '담보대출금액', '주택대출금액', '전세자금대출금액'],\n",
       "      dtype='object')"
      ]
     },
     "execution_count": 3,
     "metadata": {},
     "output_type": "execute_result"
    }
   ],
   "source": [
    "df.columns"
   ]
  },
  {
   "cell_type": "markdown",
   "metadata": {},
   "source": [
    "##### 결측 데이터 조회"
   ]
  },
  {
   "cell_type": "code",
   "execution_count": 4,
   "metadata": {},
   "outputs": [
    {
     "data": {
      "text/plain": [
       "기준년월        0\n",
       "지역구         0\n",
       "법정동코드       0\n",
       "법정동         0\n",
       "집계구코드       0\n",
       "나이          0\n",
       "성별          0\n",
       "직장인여부       0\n",
       "급여입금        0\n",
       "가맹점매출입금     0\n",
       "연금입금        0\n",
       "총소비금액       0\n",
       "총수신금액       0\n",
       "예적금금액       0\n",
       "신탁금액        0\n",
       "수익증권금액      0\n",
       "신용대출금액      0\n",
       "담보대출금액      0\n",
       "주택대출금액      0\n",
       "전세자금대출금액    0\n",
       "dtype: int64"
      ]
     },
     "execution_count": 4,
     "metadata": {},
     "output_type": "execute_result"
    }
   ],
   "source": [
    "df.isnull().sum()"
   ]
  },
  {
   "cell_type": "markdown",
   "metadata": {},
   "source": [
    "---"
   ]
  },
  {
   "cell_type": "markdown",
   "metadata": {},
   "source": [
    "#### 자치구 ('지역구') 확인하기"
   ]
  },
  {
   "cell_type": "code",
   "execution_count": 5,
   "metadata": {},
   "outputs": [
    {
     "name": "stdout",
     "output_type": "stream",
     "text": [
      "['강남구' '강동구' '강북구' '강서구' '관악구' '광진구' '구로구' '금천구' '노원구' '도봉구' '동대문구' '동작구'\n",
      " '마포구' '서대문구' '서초구' '성동구' '성북구' '송파구' '양천구' '영등포구' '용산구' '은평구' '종로구' '중구'\n",
      " '중랑구']\n",
      "25\n"
     ]
    }
   ],
   "source": [
    "county = df['지역구'].unique()\n",
    "print(county)\n",
    "print(len(county))\n",
    "#print(df['지역구'].value_counts().sort_index())"
   ]
  },
  {
   "cell_type": "markdown",
   "metadata": {},
   "source": [
    "---"
   ]
  },
  {
   "cell_type": "code",
   "execution_count": 6,
   "metadata": {},
   "outputs": [],
   "source": [
    "# 각 지역구가 맞는지 판별하기 위한 True/False\n",
    "iscounty = []\n",
    "for i in range(len(county)):\n",
    "    iscounty.append(df['지역구'] == county[i])\n",
    "    \n",
    "# 각 지역구의 데이터프레임\n",
    "counties = []\n",
    "for j in range(25):\n",
    "    counties.append(df[iscounty[j]])"
   ]
  },
  {
   "cell_type": "markdown",
   "metadata": {},
   "source": [
    "---"
   ]
  },
  {
   "cell_type": "markdown",
   "metadata": {},
   "source": [
    "# 🔔 급여입금"
   ]
  },
  {
   "cell_type": "markdown",
   "metadata": {},
   "source": [
    "### 🟡 자치구 별 직장인 여부 확인하기 "
   ]
  },
  {
   "cell_type": "code",
   "execution_count": 7,
   "metadata": {},
   "outputs": [],
   "source": [
    "# 자치구 별 직장인 여부\n",
    "isworker = []\n",
    "i = 0\n",
    "sum = 0\n",
    "for i in range(25):\n",
    "    isworker.append(counties[i]['급여입금'] > 0)"
   ]
  },
  {
   "cell_type": "markdown",
   "metadata": {},
   "source": [
    "----"
   ]
  },
  {
   "cell_type": "markdown",
   "metadata": {},
   "source": [
    "### ⚪ 자치구 별 직장인 수 확인하기"
   ]
  },
  {
   "cell_type": "code",
   "execution_count": 8,
   "metadata": {},
   "outputs": [
    {
     "name": "stdout",
     "output_type": "stream",
     "text": [
      "강남구 : 3341\n",
      "강동구 : 1092\n",
      "강북구 : 187\n",
      "강서구 : 3573\n",
      "관악구 : 2712\n",
      "광진구 : 1466\n",
      "구로구 : 1345\n",
      "금천구 : 603\n",
      "노원구 : 1676\n",
      "도봉구 : 367\n",
      "동대문구 : 458\n",
      "동작구 : 1544\n",
      "마포구 : 1849\n",
      "서대문구 : 798\n",
      "서초구 : 2449\n",
      "성동구 : 1685\n",
      "성북구 : 950\n",
      "송파구 : 2826\n",
      "양천구 : 1663\n",
      "영등포구 : 2064\n",
      "용산구 : 1005\n",
      "은평구 : 926\n",
      "종로구 : 438\n",
      "중구 : 437\n",
      "중랑구 : 555\n",
      "\n",
      "\n",
      "총합 : 36009\n"
     ]
    }
   ],
   "source": [
    "# 자치구 별로 급여입금 받는 인원수 확인하기\n",
    "i = 0\n",
    "sum = 0\n",
    "for i in range(25):\n",
    "    print(county[i] + ' : ' + str(len(counties[i][isworker[i]])))\n",
    "    sum += len(counties[i][isworker[i]])\n",
    "\n",
    "print(\"\\n\\n총합 : \" + str(sum))"
   ]
  },
  {
   "cell_type": "markdown",
   "metadata": {},
   "source": [
    "#### ⚫ 각 자치구 별 직장인 대상 급여입금 평균\n",
    "** 직장인에 해당하지 않는 사람들은 제외"
   ]
  },
  {
   "cell_type": "code",
   "execution_count": 9,
   "metadata": {},
   "outputs": [
    {
     "name": "stdout",
     "output_type": "stream",
     "text": [
      "강남구 : 4397614.1888656095\n",
      "강동구 : 3586378.6346153845\n",
      "강북구 : 3506619.497326203\n",
      "강서구 : 3162227.875174923\n",
      "관악구 : 2925671.028761062\n",
      "광진구 : 3398319.8499317872\n",
      "구로구 : 3261096.3390334575\n",
      "금천구 : 2893865.8623548923\n",
      "노원구 : 3170992.937947494\n",
      "도봉구 : 3057016.514986376\n",
      "동대문구 : 3139883.1048034932\n",
      "동작구 : 3362681.577720207\n",
      "마포구 : 3571755.8761492698\n",
      "서대문구 : 3522997.9373433585\n",
      "서초구 : 4434539.155573703\n",
      "성동구 : 3542189.1080118692\n",
      "성북구 : 3668333.137894737\n",
      "송파구 : 3898295.2876857747\n",
      "양천구 : 4096984.0384846665\n",
      "영등포구 : 3492250.715116279\n",
      "용산구 : 3993082.6845771144\n",
      "은평구 : 3049636.0593952485\n",
      "종로구 : 3684768.51369863\n",
      "중구 : 3735404.5926773455\n",
      "중랑구 : 2878703.6288288287\n"
     ]
    }
   ],
   "source": [
    "# 각 자치구 별 직장인 대상 급여입금 평균 \n",
    "mean = []\n",
    "i = 0 \n",
    "for i in range(25):\n",
    "    mean.append(counties[i][isworker[i]]['급여입금'].mean())\n",
    "    print(county[i] + ' : '+ str(counties[i][isworker[i]]['급여입금'].mean()))"
   ]
  },
  {
   "cell_type": "markdown",
   "metadata": {},
   "source": [
    "---"
   ]
  },
  {
   "cell_type": "markdown",
   "metadata": {},
   "source": [
    "# 🔔 총소비금액"
   ]
  },
  {
   "cell_type": "markdown",
   "metadata": {},
   "source": [
    "---"
   ]
  },
  {
   "cell_type": "code",
   "execution_count": null,
   "metadata": {},
   "outputs": [],
   "source": [
    "### ⚪각 자치구 별 총소비금액이 0 이하인 데이터 확인하기"
   ]
  },
  {
   "cell_type": "code",
   "execution_count": null,
   "metadata": {},
   "outputs": [],
   "source": [
    "iszero = []\n",
    "i = 0\n",
    "sum = 0\n",
    "for i in range(25):\n",
    "    iszero.append(counties[i]['총소비금액'] <= 0)\n",
    "    #print(county[i] + ' : ' + str(len(counties[i][iszero[i]])))\n",
    "    sum += len(counties[i][iszero[i]])\n",
    "\n",
    "print(\"\\n\\n총합 : \" + str(sum))"
   ]
  },
  {
   "cell_type": "code",
   "execution_count": null,
   "metadata": {},
   "outputs": [],
   "source": [
    "#### ⚫ 각 자치구 별 총소비금액 평균 (원본)"
   ]
  },
  {
   "cell_type": "code",
   "execution_count": null,
   "metadata": {},
   "outputs": [],
   "source": [
    "# 각 자치구 별 총소비금액 평균\n",
    "mean = []\n",
    "i = 0 \n",
    "for i in range(25):\n",
    "    mean.append(counties[i]['총소비금액'].mean())\n",
    "    print(county[i] + ' : '+ str(counties[i]['총소비금액'].mean()))"
   ]
  },
  {
   "cell_type": "markdown",
   "metadata": {},
   "source": [
    "---"
   ]
  },
  {
   "cell_type": "markdown",
   "metadata": {},
   "source": [
    "# 🔔 총수신금액"
   ]
  },
  {
   "cell_type": "code",
   "execution_count": null,
   "metadata": {},
   "outputs": [],
   "source": [
    "### ⚪  '총수신금액'이 0 이하인 데이터 확인하기"
   ]
  },
  {
   "cell_type": "code",
   "execution_count": null,
   "metadata": {},
   "outputs": [],
   "source": [
    "iszero = []\n",
    "i = 0\n",
    "sum = 0\n",
    "for i in range(25):\n",
    "    iszero.append(counties[i]['총수신금액'] <= 0)\n",
    "    #print(county[i] + ' : ' + str(len(counties[i][iszero[i]])))\n",
    "    sum += len(counties[i][iszero[i]])\n",
    "\n",
    "print(\"\\n\\n총합 : \" + str(sum))"
   ]
  },
  {
   "cell_type": "code",
   "execution_count": null,
   "metadata": {},
   "outputs": [],
   "source": [
    "#### ⚫ 각 자치구 별 총수신금액"
   ]
  },
  {
   "cell_type": "code",
   "execution_count": null,
   "metadata": {},
   "outputs": [],
   "source": [
    "# 각 자치구 별 총수신금액 평균\n",
    "mean = []\n",
    "i = 0 \n",
    "for i in range(25):\n",
    "    mean.append(counties[i]['총수신금액'].mean())\n",
    "    print(county[i] + ' : '+ str(counties[i]['총수신금액'].mean()))"
   ]
  },
  {
   "cell_type": "markdown",
   "metadata": {},
   "source": [
    "---"
   ]
  },
  {
   "cell_type": "markdown",
   "metadata": {},
   "source": [
    "# 🔔 예적금금액"
   ]
  },
  {
   "cell_type": "code",
   "execution_count": null,
   "metadata": {},
   "outputs": [],
   "source": [
    "### ⚪ 예적금금액 0 이하인 데이터 확인하기"
   ]
  },
  {
   "cell_type": "code",
   "execution_count": null,
   "metadata": {},
   "outputs": [],
   "source": [
    "iszero = []\n",
    "i = 0\n",
    "sum = 0\n",
    "for i in range(25):\n",
    "    iszero.append(counties[i]['예적금금액'] <= 0)\n",
    "    #print(county[i] + ' : ' + str(len(counties[i][iszero[i]])))\n",
    "    sum += len(counties[i][iszero[i]])\n",
    "\n",
    "print(\"\\n\\n총합 : \" + str(sum))"
   ]
  },
  {
   "cell_type": "code",
   "execution_count": null,
   "metadata": {},
   "outputs": [],
   "source": [
    "#### ⚫ 각 자치구 별 예적금금액  (원본)"
   ]
  },
  {
   "cell_type": "code",
   "execution_count": null,
   "metadata": {},
   "outputs": [],
   "source": [
    "# 각 자치구 별 예적금금액 평균\n",
    "mean = []\n",
    "i = 0 \n",
    "for i in range(25):\n",
    "    mean.append(counties[i]['예적금금액'].mean())\n",
    "    print(county[i] + ' : '+ str(counties[i]['예적금금액'].mean()))\n",
    "\n",
    "#print(mean)"
   ]
  },
  {
   "cell_type": "markdown",
   "metadata": {},
   "source": [
    "---"
   ]
  },
  {
   "cell_type": "markdown",
   "metadata": {},
   "source": [
    "# 🔔 신용대출금액"
   ]
  },
  {
   "cell_type": "code",
   "execution_count": null,
   "metadata": {},
   "outputs": [],
   "source": [
    "### ⚪ 신용대출금액 0 이하인 데이터 확인하기"
   ]
  },
  {
   "cell_type": "code",
   "execution_count": null,
   "metadata": {},
   "outputs": [],
   "source": [
    "iszero = []\n",
    "i = 0\n",
    "sum = 0\n",
    "for i in range(25):\n",
    "    iszero.append(counties[i]['신용대출금액'] <= 0)\n",
    "    #print(county[i] + ' : ' + str(len(counties[i][iszero[i]])))\n",
    "    sum += len(counties[i][iszero[i]])\n",
    "\n",
    "print(\"\\n\\n총합 : \" + str(sum))"
   ]
  },
  {
   "cell_type": "code",
   "execution_count": null,
   "metadata": {},
   "outputs": [],
   "source": [
    "#### ⚫ 각 자치구 별 신용대출금액  (원본)"
   ]
  },
  {
   "cell_type": "code",
   "execution_count": null,
   "metadata": {},
   "outputs": [],
   "source": [
    "# 각 자치구 별 직장인 대상 신용대출금액 평균\n",
    "mean = []\n",
    "i = 0 \n",
    "for i in range(25):\n",
    "    mean.append(counties[i][isworker[i]]['신용대출금액'].mean())\n",
    "    print(county[i] + ' : '+ str(counties[i][isworker[i]]['신용대출금액'].mean()))"
   ]
  },
  {
   "cell_type": "markdown",
   "metadata": {},
   "source": [
    "---"
   ]
  },
  {
   "cell_type": "markdown",
   "metadata": {},
   "source": [
    "# 🔔 담보대출금액"
   ]
  },
  {
   "cell_type": "code",
   "execution_count": null,
   "metadata": {},
   "outputs": [],
   "source": [
    "### ⚪ 담보대출금액 0 이하인지 확인하기"
   ]
  },
  {
   "cell_type": "code",
   "execution_count": null,
   "metadata": {},
   "outputs": [],
   "source": [
    "iszero = []\n",
    "i = 0\n",
    "sum = 0\n",
    "for i in range(25):\n",
    "    iszero.append(counties[i]['담보대출금액'] <= 0)\n",
    "    #print(county[i] + ' : ' + str(len(counties[i][iszero[i]])))\n",
    "    sum += len(counties[i][iszero[i]])\n",
    "\n",
    "print(\"\\n\\n총합 : \" + str(sum))"
   ]
  },
  {
   "cell_type": "code",
   "execution_count": null,
   "metadata": {},
   "outputs": [],
   "source": [
    "#### ⚫ 각 자치구 별 담보대출금액  (원본)"
   ]
  },
  {
   "cell_type": "code",
   "execution_count": null,
   "metadata": {},
   "outputs": [],
   "source": [
    "# 각 자치구 별 직장인 대상 담보대출금액 평균\n",
    "mean = []\n",
    "i = 0 \n",
    "for i in range(25):\n",
    "    mean.append(counties[i][isworker[i]]['담보대출금액'].mean())\n",
    "    print(county[i] + ' : '+ str(counties[i][isworker[i]]['담보대출금액'].mean()))"
   ]
  },
  {
   "cell_type": "markdown",
   "metadata": {},
   "source": [
    "---"
   ]
  }
 ],
 "metadata": {
  "kernelspec": {
   "display_name": "Python 3",
   "language": "python",
   "name": "python3"
  },
  "language_info": {
   "codemirror_mode": {
    "name": "ipython",
    "version": 3
   },
   "file_extension": ".py",
   "mimetype": "text/x-python",
   "name": "python",
   "nbconvert_exporter": "python",
   "pygments_lexer": "ipython3",
   "version": "3.8.3"
  }
 },
 "nbformat": 4,
 "nbformat_minor": 4
}
