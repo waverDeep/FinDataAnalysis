{
 "cells": [
  {
   "cell_type": "code",
   "execution_count": null,
   "metadata": {
    "collapsed": true,
    "pycharm": {
     "is_executing": true
    }
   },
   "outputs": [],
   "source": [
    "import pandas as pd\n",
    "import openpyxl\n",
    "dataset01 = pd.read_csv('./dataset/kc_data_1.csv')\n",
    "dataset02 = pd.read_csv('./dataset/kc_data_2.csv')\n",
    "dataset = pd.concat([dataset01, dataset02])\n",
    "# 서울만 분리해냄\n",
    "dataset = dataset[dataset['시도명']=='서울']\n",
    "\n",
    "guide_date = dataset['기준년월'].unique()\n",
    "print(guide_date)\n",
    "dataset_2018 = dataset[dataset['기준년월'] == guide_date[0]]\n",
    "dataset_2019 = dataset[dataset['기준년월'] == guide_date[1]]\n",
    "dataset_2020 = dataset[dataset['기준년월'] == guide_date[2]]\n",
    "dataset = dataset[dataset['기준년월'] == guide_date[0]]"
   ]
  },
  {
   "cell_type": "code",
   "execution_count": null,
   "outputs": [],
   "source": [
    "# 서울시 시군구명 추출\n",
    "# 결과 : 25개 모두 존재\n",
    "sigoongu = list(set(dataset['시군구명']))\n",
    "print(len(sigoongu), '개')\n",
    "# print(sigoongu)"
   ],
   "metadata": {
    "collapsed": false,
    "pycharm": {
     "name": "#%%\n",
     "is_executing": true
    }
   }
  },
  {
   "cell_type": "code",
   "execution_count": null,
   "outputs": [],
   "source": [
    "# 각 시군구별 업종중분류명 추출\n",
    "middle = []\n",
    "for gu in sigoongu:\n",
    "    temp = dataset[dataset['시군구명']==gu]\n",
    "    temp = list(set(temp['업종중분류명']))\n",
    "    middle.extend(temp)\n",
    "    # print(gu,\": \", len(temp),\": \", temp)"
   ],
   "metadata": {
    "collapsed": false,
    "pycharm": {
     "name": "#%%\n",
     "is_executing": true
    }
   }
  },
  {
   "cell_type": "code",
   "execution_count": null,
   "outputs": [],
   "source": [
    "# 각 시군구별 업종대분류명 추출\n",
    "big = []\n",
    "for gu in sigoongu:\n",
    "    temp = dataset[dataset['시군구명']==gu]\n",
    "    temp = list(set(temp['업종대분류명']))\n",
    "    big.extend(temp)\n",
    "    # print(gu,\": \", temp)"
   ],
   "metadata": {
    "collapsed": false,
    "pycharm": {
     "name": "#%%\n",
     "is_executing": true
    }
   }
  },
  {
   "cell_type": "code",
   "execution_count": null,
   "outputs": [],
   "source": [
    "# 시군구변 존재하는 업종중분류명과 존재하지 않는 것을 dataframe으로 표현\n",
    "middle = list(set(middle))\n",
    "big = list(set(big))"
   ],
   "metadata": {
    "collapsed": false,
    "pycharm": {
     "name": "#%%\n",
     "is_executing": true
    }
   }
  },
  {
   "cell_type": "code",
   "execution_count": null,
   "outputs": [],
   "source": [
    "import matplotlib.pyplot as plt\n",
    "import numpy as np\n",
    "import matplotlib as mpl\n",
    "mpl.rcParams['axes.unicode_minus'] = False\n",
    "plt.rcParams[\"font.family\"] = 'NanumGothic'"
   ],
   "metadata": {
    "collapsed": false,
    "pycharm": {
     "name": "#%%\n",
     "is_executing": true
    }
   }
  },
  {
   "cell_type": "code",
   "execution_count": null,
   "outputs": [],
   "source": [
    "# 시군구별 - 업종대분류 - 매출평균액\n",
    "gu_big_maechul = {}\n",
    "for gu in sigoongu:\n",
    "    temp = dataset[dataset['시군구명']==gu]\n",
    "    b_mean = []\n",
    "    for b in big:\n",
    "        temp_b = temp[temp['업종대분류명']==b]\n",
    "        temp_b = temp_b.fillna(0)\n",
    "        b_mean.append(temp_b['매출평균액'].mean())\n",
    "    gu_big_maechul[gu] = b_mean\n",
    "# print(gu_big_maechul)"
   ],
   "metadata": {
    "collapsed": false,
    "pycharm": {
     "name": "#%%\n",
     "is_executing": true
    }
   }
  },
  {
   "cell_type": "code",
   "execution_count": null,
   "outputs": [],
   "source": [
    "plt.bar(big, gu_big_maechul['강남구'])\n",
    "plt.xticks(rotation=90)\n",
    "plt.show()"
   ],
   "metadata": {
    "collapsed": false,
    "pycharm": {
     "name": "#%%\n",
     "is_executing": true
    }
   }
  },
  {
   "cell_type": "code",
   "execution_count": null,
   "outputs": [],
   "source": [
    "gu_big_maechul_pd = pd.DataFrame(gu_big_maechul, index=big, columns=sigoongu)\n",
    "gu_big_maechul_pd = gu_big_maechul_pd.fillna(0)\n",
    "gu_big_maechul_pd = gu_big_maechul_pd.transpose()\n",
    "plt.figure(figsize=(10,10))\n",
    "plt.pcolor(gu_big_maechul_pd)\n",
    "plt.xticks(np.arange(0.5, len(gu_big_maechul_pd.columns), 1), gu_big_maechul_pd.columns, rotation=90)\n",
    "plt.yticks(np.arange(0.5, len(gu_big_maechul_pd.index), 1), gu_big_maechul_pd.index)\n",
    "plt.xlabel('__', fontsize=14)\n",
    "plt.ylabel('__', fontsize=14)\n",
    "plt.colorbar()\n",
    "plt.show()\n",
    "gu_big_maechul_pd.head(3)"
   ],
   "metadata": {
    "collapsed": false,
    "pycharm": {
     "name": "#%%\n",
     "is_executing": true
    }
   }
  },
  {
   "cell_type": "code",
   "execution_count": null,
   "outputs": [],
   "source": [
    "# 클러스터링 시도\n",
    "import numpy as np\n",
    "from sklearn.cluster import KMeans\n",
    "import seaborn as sns\n",
    "\n",
    "datapoints = gu_big_maechul_pd.values\n",
    "kmeans = KMeans(n_clusters=5).fit(datapoints)\n",
    "print(kmeans.labels_)"
   ],
   "metadata": {
    "collapsed": false,
    "pycharm": {
     "name": "#%%\n",
     "is_executing": true
    }
   }
  },
  {
   "cell_type": "code",
   "execution_count": null,
   "outputs": [],
   "source": [
    "gu_big_maechul_pd['cluster_id'] = kmeans.labels_\n",
    "temp = gu_big_maechul_pd[gu_big_maechul_pd['cluster_id']==2]\n",
    "temp['cluster_id']"
   ],
   "metadata": {
    "collapsed": false,
    "pycharm": {
     "name": "#%%\n",
     "is_executing": true
    }
   }
  },
  {
   "cell_type": "code",
   "execution_count": null,
   "outputs": [],
   "source": [
    "\n",
    "\n",
    "# 시군구별 - 업종대분류 - 매출평균액\n",
    "gu_big_count = {}\n",
    "for gu in sigoongu:\n",
    "    temp = dataset[dataset['시군구명']==gu]\n",
    "    b_mean = []\n",
    "    for b in big:\n",
    "        temp_b = temp[temp['업종대분류명']==b]\n",
    "        temp_b = temp_b.fillna(0)\n",
    "        b_mean.append(temp_b['총기업수'].sum())\n",
    "    gu_big_count[gu] = b_mean\n",
    "# print(gu_big_count)"
   ],
   "metadata": {
    "collapsed": false,
    "pycharm": {
     "name": "#%%\n",
     "is_executing": true
    }
   }
  },
  {
   "cell_type": "code",
   "execution_count": null,
   "outputs": [],
   "source": [
    "gu_big_count_pd = pd.DataFrame(gu_big_count, index=big, columns=sigoongu)\n",
    "gu_big_count_pd = gu_big_count_pd.fillna(0)\n",
    "gu_big_count_pd = gu_big_count_pd.transpose()\n",
    "plt.figure(figsize=(10,10))\n",
    "plt.pcolor(gu_big_count_pd)\n",
    "plt.xticks(np.arange(0.5, len(gu_big_count_pd.columns), 1), gu_big_count_pd.columns, rotation=90)\n",
    "plt.yticks(np.arange(0.5, len(gu_big_count_pd.index), 1), gu_big_count_pd.index)\n",
    "plt.xlabel('__', fontsize=14)\n",
    "plt.ylabel('__', fontsize=14)\n",
    "plt.colorbar()\n",
    "plt.show()\n",
    "# gu_big_count_pd.head(3)"
   ],
   "metadata": {
    "collapsed": false,
    "pycharm": {
     "name": "#%%\n",
     "is_executing": true
    }
   }
  },
  {
   "cell_type": "code",
   "execution_count": null,
   "outputs": [],
   "source": [
    "# 클러스터링 시도\n",
    "import numpy as np\n",
    "from sklearn.cluster import KMeans\n",
    "import seaborn as sns\n",
    "\n",
    "datapoints = gu_big_count_pd.values\n",
    "kmeans = KMeans(n_clusters=3).fit(datapoints)\n",
    "print(kmeans.labels_)"
   ],
   "metadata": {
    "collapsed": false,
    "pycharm": {
     "name": "#%%\n",
     "is_executing": true
    }
   }
  },
  {
   "cell_type": "code",
   "execution_count": null,
   "outputs": [],
   "source": [
    "gu_big_maechul_pd['cluster_id'] = kmeans.labels_\n",
    "temp = gu_big_maechul_pd[gu_big_maechul_pd['cluster_id']==2]\n",
    "temp['cluster_id']"
   ],
   "metadata": {
    "collapsed": false,
    "pycharm": {
     "name": "#%%\n",
     "is_executing": true
    }
   }
  },
  {
   "cell_type": "code",
   "execution_count": null,
   "outputs": [],
   "source": [
    "dataset = dataset[dataset['기준년월'] == guide_date[0]]\n",
    "dataset.head(10)"
   ],
   "metadata": {
    "collapsed": false,
    "pycharm": {
     "name": "#%%\n",
     "is_executing": true
    }
   }
  }
 ],
 "metadata": {
  "kernelspec": {
   "display_name": "Python 3",
   "language": "python",
   "name": "python3"
  },
  "language_info": {
   "codemirror_mode": {
    "name": "ipython",
    "version": 2
   },
   "file_extension": ".py",
   "mimetype": "text/x-python",
   "name": "python",
   "nbconvert_exporter": "python",
   "pygments_lexer": "ipython2",
   "version": "2.7.6"
  }
 },
 "nbformat": 4,
 "nbformat_minor": 0
}